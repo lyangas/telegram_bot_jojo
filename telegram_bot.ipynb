{
 "cells": [
  {
   "cell_type": "code",
   "execution_count": 1,
   "metadata": {},
   "outputs": [],
   "source": []
  },
  {
   "cell_type": "code",
   "execution_count": 2,
   "metadata": {},
   "outputs": [],
   "source": [
    "import telebot\n",
    "from telebot import apihelper\n",
    "\n",
    "apihelper.proxy = {'https':'socks5://54.39.16.26:57257'}\n",
    "bot = telebot.TeleBot('1215716564:AAEhpwiQgSMX912DUmPBrutF-o2DaywpG0U')"
   ]
  },
  {
   "cell_type": "code",
   "execution_count": 9,
   "metadata": {},
   "outputs": [
    {
     "output_type": "stream",
     "name": "stderr",
     "text": "2020-05-17 14:18:12,522 (util.py:66 PollingThread) ERROR - TeleBot: \"ApiException occurred, args=('A request to the Telegram API was unsuccessful. The server returned HTTP 409 Conflict. Response body:\\n[b\\'{\"ok\":false,\"error_code\":409,\"description\":\"Conflict: terminated by other getUpdates request; make sure that only one bot instance is running\"}\\']',)\nTraceback (most recent call last):\n  File \"/Users/langasovid/anaconda3/lib/python3.7/site-packages/telebot/util.py\", line 60, in run\n    task(*args, **kwargs)\n  File \"/Users/langasovid/anaconda3/lib/python3.7/site-packages/telebot/__init__.py\", line 279, in __retrieve_updates\n    updates = self.get_updates(offset=(self.last_update_id + 1), timeout=timeout)\n  File \"/Users/langasovid/anaconda3/lib/python3.7/site-packages/telebot/__init__.py\", line 249, in get_updates\n    json_updates = apihelper.get_updates(self.token, offset, limit, timeout, allowed_updates)\n  File \"/Users/langasovid/anaconda3/lib/python3.7/site-packages/telebot/apihelper.py\", line 194, in get_updates\n    return _make_request(token, method_url, params=payload)\n  File \"/Users/langasovid/anaconda3/lib/python3.7/site-packages/telebot/apihelper.py\", line 60, in _make_request\n    return _check_result(method_name, result)['result']\n  File \"/Users/langasovid/anaconda3/lib/python3.7/site-packages/telebot/apihelper.py\", line 79, in _check_result\n    raise ApiException(msg, method_name, result)\ntelebot.apihelper.ApiException: A request to the Telegram API was unsuccessful. The server returned HTTP 409 Conflict. Response body:\n[b'{\"ok\":false,\"error_code\":409,\"description\":\"Conflict: terminated by other getUpdates request; make sure that only one bot instance is running\"}']\n\"\n"
    }
   ],
   "source": [
    "\n",
    "keyboard1 = telebot.types.ReplyKeyboardMarkup()\n",
    "keyboard1.row('Привет', 'Пока')\n",
    "\n",
    "@bot.message_handler(commands=['start'])\n",
    "def start_message(message):\n",
    "    bot.send_message(message.chat.id, 'привет, жожофаг! готов сразится с бизарненьким злодеем?', reply_markup=keyboard1)\n",
    "\n",
    "@bot.message_handler(content_types=['text'])\n",
    "def send_text(message):\n",
    "    if message.text.lower() == 'привет':\n",
    "        bot.send_message(message.chat.id, 'Привет, мой создатель')\n",
    "    elif message.text.lower() == 'пока':\n",
    "        bot.send_message(message.chat.id, 'Прощай, создатель')\n",
    "    elif message.text.lower() == 'я тебя люблю':\n",
    "        bot.send_sticker(message.chat.id, 'CAADAgADZgkAAnlc4gmfCor5YbYYRAI')\n",
    "\n",
    "@bot.message_handler(content_types=['sticker'])\n",
    "def sticker_id(message):\n",
    "    print(message)\n",
    "\n",
    "bot.polling()"
   ]
  }
 ],
 "metadata": {
  "language_info": {
   "codemirror_mode": {
    "name": "ipython",
    "version": 3
   },
   "file_extension": ".py",
   "mimetype": "text/x-python",
   "name": "python",
   "nbconvert_exporter": "python",
   "pygments_lexer": "ipython3",
   "version": "3.7.6-final"
  },
  "orig_nbformat": 2,
  "kernelspec": {
   "name": "python37664bitanaconda3virtualenv00fcf0c8f7c84fb89d3b1436440dc1b5",
   "display_name": "Python 3.7.6 64-bit ('anaconda3': virtualenv)"
  }
 },
 "nbformat": 4,
 "nbformat_minor": 2
}